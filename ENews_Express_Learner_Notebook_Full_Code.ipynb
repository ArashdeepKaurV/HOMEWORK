{
  "nbformat": 4,
  "nbformat_minor": 5,
  "metadata": {
    "kernelspec": {
      "display_name": "Python 3",
      "language": "python",
      "name": "python3"
    },
    "language_info": {
      "codemirror_mode": {
        "name": "ipython",
        "version": 3
      },
      "file_extension": ".py",
      "mimetype": "text/x-python",
      "name": "python",
      "nbconvert_exporter": "python",
      "pygments_lexer": "ipython3",
      "version": "3.8.8"
    },
    "colab": {
      "provenance": [],
      "collapsed_sections": [
        "6970dd99",
        "9d75cfa2",
        "68f3b2c9",
        "fad2de2f",
        "27906576",
        "e5fdf0c8",
        "56b3dafd",
        "c7ee4907",
        "3f58c9a7",
        "5fed2eac",
        "f5c5258d",
        "359b12f8",
        "d9affc84",
        "353e9d24",
        "d49bfa2d",
        "8d585a90",
        "3acbc947"
      ],
      "include_colab_link": true
    }
  },
  "cells": [
    {
      "cell_type": "markdown",
      "metadata": {
        "id": "view-in-github",
        "colab_type": "text"
      },
      "source": [
        "<a href=\"https://colab.research.google.com/github/ArashdeepKaurV/HOMEWORK/blob/main/ENews_Express_Learner_Notebook_Full_Code.ipynb\" target=\"_parent\"><img src=\"https://colab.research.google.com/assets/colab-badge.svg\" alt=\"Open In Colab\"/></a>"
      ]
    },
    {
      "cell_type": "markdown",
      "metadata": {
        "id": "6yDxo9u0d9Na"
      },
      "source": [
        "# Project Business Statistics: E-news Express\n"
      ],
      "id": "6yDxo9u0d9Na"
    },
    {
      "cell_type": "markdown",
      "metadata": {
        "id": "SrLd-ICEmPSD"
      },
      "source": [
        "## Define Problem Statement and Objectives"
      ],
      "id": "SrLd-ICEmPSD"
    },
    {
      "cell_type": "markdown",
      "metadata": {
        "id": "a6a3d218"
      },
      "source": [
        "## Import all the necessary libraries"
      ],
      "id": "a6a3d218"
    },
    {
      "cell_type": "code",
      "source": [
        "# Installing the libraries with the specified version.\n",
        "!pip install numpy==1.25.2 pandas==2.2.2 matplotlib==3.8.0 seaborn==0.13.1 scipy==1.11.4 -q --user"
      ],
      "metadata": {
        "id": "r_5zUIePGS-1",
        "colab": {
          "base_uri": "https://localhost:8080/"
        },
        "outputId": "f1405ed7-e415-4a6f-e3ad-c1fe550c114f"
      },
      "id": "r_5zUIePGS-1",
      "execution_count": 3,
      "outputs": [
        {
          "output_type": "stream",
          "name": "stdout",
          "text": [
            "\u001b[2K     \u001b[90m━━━━━━━━━━━━━━━━━━━━━━━━━━━━━━━━━━━━━━━━\u001b[0m \u001b[32m60.4/60.4 kB\u001b[0m \u001b[31m4.0 MB/s\u001b[0m eta \u001b[36m0:00:00\u001b[0m\n",
            "\u001b[2K   \u001b[90m━━━━━━━━━━━━━━━━━━━━━━━━━━━━━━━━━━━━━━━━\u001b[0m \u001b[32m18.2/18.2 MB\u001b[0m \u001b[31m44.2 MB/s\u001b[0m eta \u001b[36m0:00:00\u001b[0m\n",
            "\u001b[2K   \u001b[90m━━━━━━━━━━━━━━━━━━━━━━━━━━━━━━━━━━━━━━━━\u001b[0m \u001b[32m11.6/11.6 MB\u001b[0m \u001b[31m49.6 MB/s\u001b[0m eta \u001b[36m0:00:00\u001b[0m\n",
            "\u001b[2K   \u001b[90m━━━━━━━━━━━━━━━━━━━━━━━━━━━━━━━━━━━━━━━━\u001b[0m \u001b[32m294.8/294.8 kB\u001b[0m \u001b[31m19.0 MB/s\u001b[0m eta \u001b[36m0:00:00\u001b[0m\n",
            "\u001b[2K   \u001b[90m━━━━━━━━━━━━━━━━━━━━━━━━━━━━━━━━━━━━━━━━\u001b[0m \u001b[32m36.4/36.4 MB\u001b[0m \u001b[31m36.9 MB/s\u001b[0m eta \u001b[36m0:00:00\u001b[0m\n",
            "\u001b[?25h\u001b[33m  WARNING: The scripts f2py, f2py3 and f2py3.11 are installed in '/root/.local/bin' which is not on PATH.\n",
            "  Consider adding this directory to PATH or, if you prefer to suppress this warning, use --no-warn-script-location.\u001b[0m\u001b[33m\n",
            "\u001b[0m"
          ]
        }
      ]
    },
    {
      "cell_type": "markdown",
      "source": [
        "**Note**: *After running the above cell, kindly restart the notebook kernel and run all cells sequentially from the start again.*"
      ],
      "metadata": {
        "id": "DAaycw-QP-j9"
      },
      "id": "DAaycw-QP-j9"
    },
    {
      "cell_type": "code",
      "metadata": {
        "id": "658c5dec"
      },
      "source": [
        "import numpy as np\n",
        "import pandas as pd\n",
        "import matplotlib.pyplot as plt\n",
        "import seaborn as sns\n",
        "from scipy import stats"
      ],
      "id": "658c5dec",
      "execution_count": 4,
      "outputs": []
    },
    {
      "cell_type": "markdown",
      "metadata": {
        "id": "6970dd99"
      },
      "source": [
        "## Reading the Data into a DataFrame"
      ],
      "id": "6970dd99"
    },
    {
      "cell_type": "code",
      "metadata": {
        "id": "d3b95640",
        "colab": {
          "base_uri": "https://localhost:8080/"
        },
        "outputId": "71d5f498-a7c1-414f-f4db-4576c7908bc8"
      },
      "source": [
        "from google.colab import drive\n",
        "drive.mount('/content/drive')\n",
        "\n",
        "ab = pd.read_csv('/content/drive/MyDrive/abtest.csv.xls')"
      ],
      "id": "d3b95640",
      "execution_count": 5,
      "outputs": [
        {
          "output_type": "stream",
          "name": "stdout",
          "text": [
            "Mounted at /content/drive\n"
          ]
        }
      ]
    },
    {
      "cell_type": "markdown",
      "source": [],
      "metadata": {
        "id": "yu_G63VMvb-h"
      },
      "id": "yu_G63VMvb-h"
    },
    {
      "cell_type": "markdown",
      "metadata": {
        "id": "9d75cfa2"
      },
      "source": [
        "## Explore the dataset and extract insights using Exploratory Data Analysis"
      ],
      "id": "9d75cfa2"
    },
    {
      "cell_type": "markdown",
      "metadata": {
        "id": "27201534"
      },
      "source": [
        "- Data Overview\n",
        "  - Viewing the first and last few rows of the dataset\n",
        "  - Checking the shape of the dataset\n",
        "  - Getting the statistical summary for the variables\n",
        "- Check for missing values\n",
        "- Check for duplicates"
      ],
      "id": "27201534"
    },
    {
      "cell_type": "code",
      "metadata": {
        "id": "e1ad11d4",
        "colab": {
          "base_uri": "https://localhost:8080/"
        },
        "outputId": "481d898f-3f64-4173-c323-64e29697a928"
      },
      "source": [
        "print(ab.head())\n",
        "print(ab.tail())\n",
        "print(ab.shape)\n",
        "print(ab.describe())\n",
        "\n",
        "print(ab.isnull().sum())\n",
        "print(ab.duplicated().sum())"
      ],
      "id": "e1ad11d4",
      "execution_count": 6,
      "outputs": [
        {
          "output_type": "stream",
          "name": "stdout",
          "text": [
            "   user_id      group landing_page  time_spent_on_the_page converted  \\\n",
            "0   546592    control          old                    3.48        no   \n",
            "1   546468  treatment          new                    7.13       yes   \n",
            "2   546462  treatment          new                    4.40        no   \n",
            "3   546567    control          old                    3.02        no   \n",
            "4   546459  treatment          new                    4.75       yes   \n",
            "\n",
            "  language_preferred  \n",
            "0            Spanish  \n",
            "1            English  \n",
            "2            Spanish  \n",
            "3             French  \n",
            "4            Spanish  \n",
            "    user_id      group landing_page  time_spent_on_the_page converted  \\\n",
            "95   546446  treatment          new                    5.15        no   \n",
            "96   546544    control          old                    6.52       yes   \n",
            "97   546472  treatment          new                    7.07       yes   \n",
            "98   546481  treatment          new                    6.20       yes   \n",
            "99   546483  treatment          new                    5.86       yes   \n",
            "\n",
            "   language_preferred  \n",
            "95            Spanish  \n",
            "96            English  \n",
            "97            Spanish  \n",
            "98            Spanish  \n",
            "99            English  \n",
            "(100, 6)\n",
            "             user_id  time_spent_on_the_page\n",
            "count     100.000000              100.000000\n",
            "mean   546517.000000                5.377800\n",
            "std        52.295779                2.378166\n",
            "min    546443.000000                0.190000\n",
            "25%    546467.750000                3.880000\n",
            "50%    546492.500000                5.415000\n",
            "75%    546567.250000                7.022500\n",
            "max    546592.000000               10.710000\n",
            "user_id                   0\n",
            "group                     0\n",
            "landing_page              0\n",
            "time_spent_on_the_page    0\n",
            "converted                 0\n",
            "language_preferred        0\n",
            "dtype: int64\n",
            "0\n"
          ]
        }
      ]
    },
    {
      "cell_type": "markdown",
      "metadata": {
        "id": "68f3b2c9"
      },
      "source": [
        "### Univariate Analysis"
      ],
      "id": "68f3b2c9"
    },
    {
      "cell_type": "code",
      "metadata": {
        "id": "1932d0f3",
        "colab": {
          "base_uri": "https://localhost:8080/",
          "height": 579
        },
        "outputId": "ce69a385-8be6-4fee-8434-b0e90ac29ec1"
      },
      "source": [
        "plt.figure(figsize=(10, 6))\n",
        "plt.hist(ab['language_preferred'])\n",
        "plt.title('Language Preferred')\n",
        "plt.xticks(rotation=45)\n",
        "plt.show()"
      ],
      "id": "1932d0f3",
      "execution_count": 12,
      "outputs": [
        {
          "output_type": "display_data",
          "data": {
            "text/plain": [
              "<Figure size 1000x600 with 1 Axes>"
            ],
            "image/png": "[encoded data removed]"
          },
          "metadata": {}
        }
      ]
    },
    {
      "cell_type": "markdown",
      "metadata": {
        "id": "fad2de2f"
      },
      "source": [
        "### Bivariate Analysis"
      ],
      "id": "fad2de2f"
    },
    {
      "cell_type": "code",
      "metadata": {
        "id": "58e9a1d0",
        "colab": {
          "base_uri": "https://localhost:8080/",
          "height": 564
        },
        "outputId": "6635e4a1-efeb-4ac6-85e5-06df811bf73a"
      },
      "source": [
        "plt.figure(figsize=(10, 6))\n",
        "sns.countplot(data=ab, x='landing_page', hue='converted')\n",
        "plt.xlabel('Landing Page')\n",
        "plt.ylabel('Count')\n",
        "plt.title('Conversion by Landing Page')\n",
        "plt.show()"
      ],
      "id": "58e9a1d0",
      "execution_count": 11,
      "outputs": [
        {
          "output_type": "display_data",
          "data": {
            "text/plain": [
              "<Figure size 1000x600 with 1 Axes>"
            ],
            "image/png": "[encoded data removed]"
          },
          "metadata": {}
        }
      ]
    },
    {
      "cell_type": "markdown",
      "metadata": {
        "id": "27906576"
      },
      "source": [
        "## 1. Do the users spend more time on the new landing page than the existing landing page?"
      ],
      "id": "27906576"
    },
    {
      "cell_type": "markdown",
      "metadata": {
        "id": "e5fdf0c8"
      },
      "source": [
        "### Perform Visual Analysis"
      ],
      "id": "e5fdf0c8"
    },
    {
      "cell_type": "code",
      "metadata": {
        "id": "6eZJa41eg21n",
        "colab": {
          "base_uri": "https://localhost:8080/",
          "height": 579
        },
        "outputId": "c5d42119-8247-4aa3-f3d4-a6045c840475"
      },
      "source": [
        "plt.figure(figsize=(10, 6))\n",
        "sns.boxplot(data=ab, x='landing_page', y='time_spent_on_the_page')\n",
        "plt.title('Time Spent on Page by Landing Page')\n",
        "plt.xlabel('Landing Page')\n",
        "plt.ylabel('Time Spent')\n",
        "plt.xticks(rotation=90)\n",
        "plt.show()"
      ],
      "id": "6eZJa41eg21n",
      "execution_count": 14,
      "outputs": [
        {
          "output_type": "display_data",
          "data": {
            "text/plain": [
              "<Figure size 1000x600 with 1 Axes>"
            ],
            "image/png": "[encoded data removed]"
          },
          "metadata": {}
        }
      ]
    },
    {
      "cell_type": "markdown",
      "metadata": {
        "id": "56b3dafd"
      },
      "source": [
        "### Step 1: Define the null and alternate hypotheses"
      ],
      "id": "56b3dafd"
    },
    {
      "cell_type": "markdown",
      "source": [
        "Null Hypothesis: There is no significant difference in the time spent on the old landing page and the new landing page.\n",
        "Alternate Hypothesis: There is significant difference in the time spent on the old landing page and the new landing page."
      ],
      "metadata": {
        "id": "YIDaH58asSdV"
      },
      "id": "YIDaH58asSdV"
    },
    {
      "cell_type": "markdown",
      "metadata": {
        "id": "c7ee4907"
      },
      "source": [
        "### Step 2: Select Appropriate test"
      ],
      "id": "c7ee4907"
    },
    {
      "cell_type": "markdown",
      "metadata": {
        "id": "2c183cd7"
      },
      "source": [
        "One sample T-test."
      ],
      "id": "2c183cd7"
    },
    {
      "cell_type": "markdown",
      "metadata": {
        "id": "3f58c9a7"
      },
      "source": [
        "### Step 3: Decide the significance level"
      ],
      "id": "3f58c9a7"
    },
    {
      "cell_type": "markdown",
      "metadata": {
        "id": "92d7d7ee"
      },
      "source": [
        "(alpha) as 0.05\n"
      ],
      "id": "92d7d7ee"
    },
    {
      "cell_type": "markdown",
      "metadata": {
        "id": "5fed2eac"
      },
      "source": [
        "### Step 4: Collect and prepare data"
      ],
      "id": "5fed2eac"
    },
    {
      "cell_type": "code",
      "metadata": {
        "id": "f5a59495"
      },
      "source": [
        "old_time_spent = ab[ab['landing_page'] == 'old']['time_spent_on_the_page']\n",
        "new_time_spent = ab[ab['landing_page'] == 'new']['time_spent_on_the_page']"
      ],
      "id": "f5a59495",
      "execution_count": 26,
      "outputs": []
    },
    {
      "cell_type": "markdown",
      "metadata": {
        "id": "f5c5258d"
      },
      "source": [
        "### Step 5: Calculate the p-value"
      ],
      "id": "f5c5258d"
    },
    {
      "cell_type": "code",
      "metadata": {
        "id": "fac8594a",
        "colab": {
          "base_uri": "https://localhost:8080/"
        },
        "outputId": "3b822e0f-a98a-4b35-f643-f19f9124d464"
      },
      "source": [
        "from scipy.stats import ttest_ind\n",
        "\n",
        "t_statistic, p_value = ttest_ind(new_time_spent, old_time_spent, equal_var=False)\n",
        "\n",
        "print(\"t-statistic:\", t_statistic)\n",
        "print(\"p-value:\", p_value)"
      ],
      "id": "fac8594a",
      "execution_count": 42,
      "outputs": [
        {
          "output_type": "stream",
          "name": "stdout",
          "text": [
            "t-statistic: 3.7867702694199856\n",
            "p-value: 0.0002784762450333098\n"
          ]
        }
      ]
    },
    {
      "cell_type": "markdown",
      "metadata": {
        "id": "359b12f8"
      },
      "source": [
        "### Step 6: Compare the p-value with $\\alpha$"
      ],
      "id": "359b12f8"
    },
    {
      "cell_type": "code",
      "metadata": {
        "id": "7be47289",
        "colab": {
          "base_uri": "https://localhost:8080/"
        },
        "outputId": "614a2ecc-cf0e-4f68-bc5a-d215aa83e61b"
      },
      "source": [
        "alpha = 0.05\n",
        "\n",
        "if p_value < alpha:\n",
        "    print(\"Reject the null hypothesis. There is significant difference in the time spent on the old landing page and the new landing page.\")\n",
        "else:\n",
        "    print(\"Fail to reject the null hypothesis. There is no significant difference in the time spent on the old landing page and the new landing page.\")"
      ],
      "id": "7be47289",
      "execution_count": 28,
      "outputs": [
        {
          "output_type": "stream",
          "name": "stdout",
          "text": [
            "Reject the null hypothesis. There is significant difference in the time spent on the old landing page and the new landing page.\n"
          ]
        }
      ]
    },
    {
      "cell_type": "markdown",
      "metadata": {
        "id": "d9affc84"
      },
      "source": [
        "### Step 7:  Draw inference"
      ],
      "id": "d9affc84"
    },
    {
      "cell_type": "markdown",
      "metadata": {
        "id": "6b16dd4b"
      },
      "source": [
        "There's a significant difference in the time spent on the old and new landing pages. since users spend more time on the new landing page, it might be more effective in gathering new subscribers."
      ],
      "id": "6b16dd4b"
    },
    {
      "cell_type": "markdown",
      "metadata": {
        "id": "1ad0823a"
      },
      "source": [
        "**A similar approach can be followed to answer the other questions.**"
      ],
      "id": "1ad0823a"
    },
    {
      "cell_type": "markdown",
      "metadata": {
        "id": "353e9d24"
      },
      "source": [
        "## 2. Is the conversion rate (the proportion of users who visit the landing page and get converted) for the new page greater than the conversion rate for the old page?"
      ],
      "id": "353e9d24"
    },
    {
      "cell_type": "code",
      "metadata": {
        "id": "b7f52898",
        "colab": {
          "base_uri": "https://localhost:8080/"
        },
        "outputId": "8a7bcf1f-0efe-47c1-e042-9d9fcaa9d17d"
      },
      "source": [
        "from statsmodels.stats.proportion import proportions_ztest\n",
        "\n",
        "new_conversion = ab[(ab['landing_page'] == 'new') & (ab['converted']== 'yes')].shape[0]\n",
        "old_conversion = ab[(ab['landing_page'] == 'old') & (ab['converted']== 'yes')].shape[0]\n",
        "new_total = ab[ab['landing_page'] == 'new'].shape[0]\n",
        "old_total = ab[ab['landing_page'] == 'old'].shape[0]\n",
        "\n",
        "successes = np.array([new_conversion, old_conversion])\n",
        "nobs = np.array([new_total, old_total])\n",
        "\n",
        "z_statistic, p_value = proportions_ztest(successes, nobs)\n",
        "\n",
        "print(\"z-statistic:\", z_statistic)\n",
        "print(\"p-value:\", p_value)\n",
        "\n",
        "if p_value < 0.05:\n",
        "    print(\"The conversion rate for the new page is greater than the conversion rate for the old page.\")\n",
        "else:\n",
        "    print(\"There is no significant difference in the conversion rates for the new and old pages.\")"
      ],
      "id": "b7f52898",
      "execution_count": 41,
      "outputs": [
        {
          "output_type": "stream",
          "name": "stdout",
          "text": [
            "z-statistic: 2.4077170617153842\n",
            "p-value: 0.016052616408112556\n",
            "The conversion rate for the new page is greater than the conversion rate for the old page.\n"
          ]
        }
      ]
    },
    {
      "cell_type": "markdown",
      "metadata": {
        "id": "d49bfa2d"
      },
      "source": [
        "## 3. Is the conversion and preferred language are independent or related?"
      ],
      "id": "d49bfa2d"
    },
    {
      "cell_type": "code",
      "metadata": {
        "id": "b0e63f17",
        "colab": {
          "base_uri": "https://localhost:8080/"
        },
        "outputId": "abcdff8d-797b-4c57-d26e-6b2a12bf0c68"
      },
      "source": [
        "from scipy.stats import chi2_contingency\n",
        "\n",
        "contingency_table = pd.crosstab(ab['converted'], ab['language_preferred'])\n",
        "chi2, p_value, dof, expected = chi2_contingency(contingency_table)\n",
        "\n",
        "print(\"Tested Statistics\", chi2)\n",
        "print(\"p-value:\", p_value)\n",
        "print(\"Degrees of Freedom:\", dof)\n",
        "print(\"Expected Frequencies:\\n\", expected)\n",
        "\n",
        "if p_value < 0.05:\n",
        "    print(\"Conversion and preferred language are significantly related.\")\n",
        "else:\n",
        "    print(\"Conversion and preferred language are independent\")"
      ],
      "id": "b0e63f17",
      "execution_count": 37,
      "outputs": [
        {
          "output_type": "stream",
          "name": "stdout",
          "text": [
            "Tested Statistics 3.0930306905370837\n",
            "p-value: 0.21298887487543447\n",
            "Degrees of Freedom: 2\n",
            "Expected Frequencies:\n",
            " [[14.72 15.64 15.64]\n",
            " [17.28 18.36 18.36]]\n",
            "Conversion and preferred language are independent\n"
          ]
        }
      ]
    },
    {
      "cell_type": "markdown",
      "metadata": {
        "id": "8d585a90"
      },
      "source": [
        "## 4. Is the time spent on the new page same for the different language users?"
      ],
      "id": "8d585a90"
    },
    {
      "cell_type": "code",
      "metadata": {
        "id": "b422f395",
        "colab": {
          "base_uri": "https://localhost:8080/"
        },
        "outputId": "a8139df4-721a-4adb-eb25-e8b4d77b7301"
      },
      "source": [
        "from scipy.stats import f_oneway\n",
        "\n",
        "new_page_data = ab[ab['landing_page'] == 'new']\n",
        "\n",
        "groups = [new_page_data[new_page_data['language_preferred'] == lang]['time_spent_on_the_page'] for lang in new_page_data['language_preferred'].unique()]\n",
        "\n",
        "f_statistic, p_value = f_oneway(*groups)\n",
        "\n",
        "print(\"F-statistic:\", f_statistic)\n",
        "print(\"p-value:\", p_value)\n",
        "\n",
        "if p_value < 0.05:\n",
        "    print(\"There is a significant difference in the time spent on the new page for different language users.\")\n",
        "else:\n",
        "    print(\"There is no significant difference in the time spent on the new page for different language users.\")"
      ],
      "id": "b422f395",
      "execution_count": 38,
      "outputs": [
        {
          "output_type": "stream",
          "name": "stdout",
          "text": [
            "F-statistic: 0.854399277000682\n",
            "p-value: 0.43204138694325955\n",
            "There is no significant difference in the time spent on the new page for different language users.\n"
          ]
        }
      ]
    },
    {
      "cell_type": "markdown",
      "metadata": {
        "id": "3acbc947"
      },
      "source": [
        "## Conclusion and Business Recommendations"
      ],
      "id": "3acbc947"
    },
    {
      "cell_type": "markdown",
      "metadata": {
        "id": "21fb1063"
      },
      "source": [
        "The new page is significantly more engaging than the old page. my business recommendation to ENews is to adopt the new landing page to increase their subscription. Language preference  did not have a significant affect on conversion rate so no changes are recommended at the moment, in future more test can be conducted to check if the significance changes."
      ],
      "id": "21fb1063"
    },
    {
      "cell_type": "markdown",
      "source": [
        "___"
      ],
      "metadata": {
        "id": "U0dAd4i0iCHo"
      },
      "id": "U0dAd4i0iCHo"
    }
  ]
}