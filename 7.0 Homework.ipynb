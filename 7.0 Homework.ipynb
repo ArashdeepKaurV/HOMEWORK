{
 "cells": [
  {
   "attachments": {},
   "cell_type": "markdown",
   "metadata": {},
   "source": [
    "## What is a student's average grade\n",
    "\n",
    "SELECT s.StudentName AS  \"Student Name\", \n",
    "avg(g.grade) AS \"Average Grades\"\n",
    "FROM  students AS  s\n",
    "LEFT JOIN grades AS g\n",
    "ON s.StudentId = g.StudentId\n",
    "GROUP BY  s.StudentId;\n",
    "\n",
    "\n",
    "\n",
    "## What department has the highest average grade\n",
    "\n",
    "SELECT DepartmentName, avg(grade)\n",
    "FROM Subjects\n",
    "LEFT JOIN Departments\n",
    "\tON Subjects.DepartmentId = Departments.DepartmentId\n",
    "LEFT JOIN Grades\n",
    "\tON Subjects.SubjectId = Grades.SubjectId;\n",
    "\n",
    "\n",
    "## What student has the single highest grade\n",
    "\n",
    "SELECT Students.StudentName, \n",
    "MAX(Grades.Grade)\n",
    "FROM Grades \n",
    "LEFT JOIN students\n",
    "ON students.StudentId = Grades.StudentId;\n"
   ]
  }
 ],
 "metadata": {
  "language_info": {
   "name": "python"
  },
  "orig_nbformat": 4
 },
 "nbformat": 4,
 "nbformat_minor": 2
}
