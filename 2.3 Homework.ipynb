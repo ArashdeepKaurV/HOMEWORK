{
 "cells": [
  {
   "attachments": {},
   "cell_type": "markdown",
   "metadata": {},
   "source": [
    "### What kind of language is Python considered?\n",
    ">>Python is considered a High level language.\n",
    "***\n",
    "### What’s a natural language?\n",
    ">>Languges that are formed on their own.\n",
    "***\n",
    "### What are Algorithms?\n",
    ">>Algorithm is a series of steps to solve a problem at hand.\n",
    "***\n",
    "### What is the program we use to write Python in?\n",
    ">>VSCode and Terminal \n",
    "***\n",
    "### What’s the file extension of a Python file?\n",
    ">>.py \n",
    "***\n",
    "### What is the area called where we put in our commands?\n",
    ">>reads is the areas where we put in our commands \n",
    "***\n",
    "### What is the #1 rule of coding / debugging?\n",
    ">>Complexity is the enemy of efficiency \n",
    "***"
   ]
  }
 ],
 "metadata": {
  "language_info": {
   "name": "python"
  },
  "orig_nbformat": 4
 },
 "nbformat": 4,
 "nbformat_minor": 2
}
