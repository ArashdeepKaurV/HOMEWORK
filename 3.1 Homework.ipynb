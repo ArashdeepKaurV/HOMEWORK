{
 "cells": [
  {
   "attachments": {},
   "cell_type": "markdown",
   "metadata": {},
   "source": [
    "#### 1. What is an algorithm?\n",
    "> Algorithm is a series of step to solve a problem at hand.\n",
    "\n",
    "#### 2. Why is Python considered to be a high-level language?\n",
    "> Python is considered a high level language because it is closer to a natural language therefore it is easier for humans to understand and write in it. \n",
    "\n",
    "#### 3. Is Python a Natural or a Formal language?\n",
    ">Python is a formal language. \n",
    "\n",
    "#### 4. Variable names may not start with certain characters - name two.\n",
    "> Variable names cannot start with numbers and special characters, except an underscore.\n",
    "\n",
    "#### 5. WHat is a Semantic error?\n",
    "> Code is gramatically correct but it doesn't make any sense; it does not produce the expected results. \n",
    "\n",
    "#### 6. What is the #1 rule of coding / debugging?\n",
    "> Complexity is the enemy of efficiency! \n",
    "\n",
    "#### 7. list 5 Python reserved words.\n",
    "> as, for, false, true, and def \n",
    "\n",
    "#### 8. add and name, a web link for any Python coding article, in your markdown cell\n",
    "> #[Python article link] (https://www.python.org/doc/essays/blurb/)\n"
   ]
  },
  {
   "cell_type": "code",
   "execution_count": 11,
   "metadata": {},
   "outputs": [
    {
     "name": "stdout",
     "output_type": "stream",
     "text": [
      "10\n",
      "a\n",
      "ing Data Analytics and\n",
      "Learning Data Analytics and Python is Great!\n",
      "Yes, Python is in Savvy variable\n",
      "Hi my name is Arashdeep, I am 5'6 and 28 old today.\n",
      "28.0\n"
     ]
    }
   ],
   "source": [
    "\"\"\" \n",
    "#My name is Arashdeep Kaur\n",
    "My favorite food is Mexican food\n",
    "My dream job is Data Analyst \n",
    "\"\"\"\n",
    "\n",
    "Var1 = str(\"Variable 1\")\n",
    "Var2 = int(2)\n",
    "Var3 = float(9.2)\n",
    "Var4 = (\"alok\", \"bob\", \"mimi\", \"gigi\")\n",
    "Var5 = {\"name\": \"Arash\", \"age\": 28,\"DOB\": \"02 Sep 1994\", \"favorite color\": \"Orange\"}\n",
    "\n",
    "print(len(Var1))\n",
    "\n",
    "print(Var1[4])\n",
    "\n",
    "savvy = \"Learning Data Analytics and Python is Awesome!\"\n",
    "\n",
    "print(savvy[5:27])\n",
    "\n",
    "\n",
    "print(savvy.replace(\"Awesome\", \"Great\"))\n",
    "\n",
    "if \"Python\" in savvy:\n",
    "    print(\"Yes, Python is in Savvy variable\")\n",
    "\n",
    "name = \"Arashdeep\"\n",
    "age = 28\n",
    "length = \"5'6\"\n",
    "miniBio = f\"Hi my name is {name}, I am {length} and {age} old today.\"\n",
    "print(miniBio)\n",
    "\n",
    "print(float(age))\n",
    "\n",
    "\n",
    "\n"
   ]
  }
 ],
 "metadata": {
  "kernelspec": {
   "display_name": "Python 3",
   "language": "python",
   "name": "python3"
  },
  "language_info": {
   "codemirror_mode": {
    "name": "ipython",
    "version": 3
   },
   "file_extension": ".py",
   "mimetype": "text/x-python",
   "name": "python",
   "nbconvert_exporter": "python",
   "pygments_lexer": "ipython3",
   "version": "3.10.9"
  },
  "orig_nbformat": 4,
  "vscode": {
   "interpreter": {
    "hash": "7e1998ff7f8aa20ada591c520b972326324e5ea05489af9e422744c7c09f6dad"
   }
  }
 },
 "nbformat": 4,
 "nbformat_minor": 2
}
