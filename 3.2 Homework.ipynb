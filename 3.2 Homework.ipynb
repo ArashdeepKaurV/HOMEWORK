{
 "cells": [
  {
   "cell_type": "code",
   "execution_count": 3,
   "metadata": {},
   "outputs": [
    {
     "name": "stdout",
     "output_type": "stream",
     "text": [
      "6\n",
      "[20, 12.54, 'pineapple', [3, 5, 4, 6]]\n",
      "['blue', 'green', 'orange', 'purple', 'red', 'yellow']\n"
     ]
    }
   ],
   "source": [
    "randomlist = ['orange', 10 , 12.54 , [3,5,4,6], ('red','orange', 17)]\n",
    "\n",
    "randomlist[1] = 20\n",
    "\n",
    "randomlist.insert(3,'pineapple')\n",
    "\n",
    "lengthofrandomlist = len(randomlist)\n",
    "\n",
    "print(lengthofrandomlist)\n",
    "\n",
    "sublist =  randomlist[1:5]\n",
    "\n",
    "print(sublist)\n",
    "\n",
    "randomlist.extend(sublist)\n",
    "\n",
    "simList = ['orange', 'red', 'blue', 'green', 'yellow', 'purple']\n",
    "\n",
    "simList.sort()\n",
    "\n",
    "print(simList)\n",
    "\n",
    "thirdList = simList.copy()\n",
    "\n",
    "fourthlist = simList + thirdList\n",
    "\n",
    "\n"
   ]
  },
  {
   "cell_type": "code",
   "execution_count": 51,
   "metadata": {},
   "outputs": [
    {
     "name": "stdout",
     "output_type": "stream",
     "text": [
      "8\n",
      "[1, 1, 1, 2, 2, 2, 5, 5, 5, 7, 7, 7, 8, 8, 8]\n",
      "1 2 2 2\n",
      "(50,)\n",
      "[1, 1, 1, 2, 2, 2, 5, 5, 5, 7, 7, 7, 8, 8, 8, 1, 2, 2, 2]\n"
     ]
    }
   ],
   "source": [
    "thisistuple = ( 1, 5, 8, 7, 2)\n",
    "\n",
    "second_tuple = thisistuple * 3 \n",
    "\n",
    "print(second_tuple[12])\n",
    "\n",
    "second_tuple = sorted(second_tuple)\n",
    "\n",
    "print(second_tuple)\n",
    "\n",
    "third_tuple = second_tuple[2:6]\n",
    "\n",
    "(animal, list1, floatingnu1, tuplenu1) = third_tuple\n",
    "\n",
    "print(animal, list1, floatingnu1, tuplenu1)\n",
    "\n",
    "tuplenu4 = (50,)\n",
    "\n",
    "print(tuplenu4)\n",
    "\n",
    "fifthtuple = second_tuple + third_tuple\n",
    "\n",
    "print(fifthtuple)\n",
    "\n"
   ]
  },
  {
   "cell_type": "code",
   "execution_count": 43,
   "metadata": {},
   "outputs": [
    {
     "name": "stdout",
     "output_type": "stream",
     "text": [
      "{10, 10.7, 'cat'}\n",
      "{27, 78}\n",
      "{10.7, 'car', 89, 10, 27, 78, 'cat'}\n"
     ]
    }
   ],
   "source": [
    "thisisset = {'cat', 10, 10.7,}\n",
    "\n",
    "#thisisset.add(['apple', 'banana', 'cherry'])\n",
    "\n",
    "print(thisisset)\n",
    "\n",
    "thisisset.add('car')\n",
    "\n",
    "secondset = {27, 89, 78}\n",
    "\n",
    "thirdset = thisisset.union(secondset)\n",
    "\n",
    "secondset.pop()\n",
    "\n",
    "print(secondset)\n",
    "\n",
    "thisisset.clear()\n",
    "\n",
    "thirdset.discard(1)\n",
    "\n",
    "print(thirdset)\n",
    "\n"
   ]
  },
  {
   "cell_type": "code",
   "execution_count": 39,
   "metadata": {},
   "outputs": [
    {
     "name": "stdout",
     "output_type": "stream",
     "text": [
      "alok\n",
      "dict_keys(['car', 'year', 'color', 'name', 'favcolor', 'favcolor2', 'listofnu'])\n",
      "dict_values(['nissan', 2015, 'black', 'arash', 'orange', 'black', '[1,2,3,4]'])\n",
      "{'car': 'nissan', 'year': 2015, 'color': 'black', 'name': 'arash', 'favcolor': 'orange', 'listofnu': '[1,2,3,4]'}\n",
      "dict2 is empty... {}\n"
     ]
    }
   ],
   "source": [
    "dict1 = {'car': 'nissan', 'year': 2015, 'color': 'black', 'name': 'alok', 'favcolor': 'orange'}\n",
    "\n",
    "gettinngdogname = dict1.get(\"name\")\n",
    "\n",
    "print(gettinngdogname)\n",
    "\n",
    "dict1.update({\"name\": \"arash\"})\n",
    "\n",
    "dict1.update({\"favcolor2\": \"black\"})\n",
    "\n",
    "dict1.update({\"listofnu\": \"[1,2,3,4]\"})\n",
    "\n",
    "x = dict1.keys()\n",
    "\n",
    "print(x)\n",
    "\n",
    "x = dict1.values()\n",
    "\n",
    "print(x)\n",
    "\n",
    "dict2 = dict1.copy()\n",
    "\n",
    "dict2.pop(\"favcolor2\")\n",
    "\n",
    "print(dict2)\n",
    "\n",
    "dict2.clear()\n",
    "\n",
    "print(\"dict2 is empty...\", dict2)\n",
    "\n",
    "\n",
    "\n",
    "\n",
    "\n"
   ]
  }
 ],
 "metadata": {
  "kernelspec": {
   "display_name": "Python 3",
   "language": "python",
   "name": "python3"
  },
  "language_info": {
   "codemirror_mode": {
    "name": "ipython",
    "version": 3
   },
   "file_extension": ".py",
   "mimetype": "text/x-python",
   "name": "python",
   "nbconvert_exporter": "python",
   "pygments_lexer": "ipython3",
   "version": "3.10.9"
  },
  "orig_nbformat": 4,
  "vscode": {
   "interpreter": {
    "hash": "7e1998ff7f8aa20ada591c520b972326324e5ea05489af9e422744c7c09f6dad"
   }
  }
 },
 "nbformat": 4,
 "nbformat_minor": 2
}
