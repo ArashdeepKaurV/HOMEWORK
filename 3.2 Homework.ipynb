{
 "cells": [
  {
   "cell_type": "code",
   "execution_count": 3,
   "metadata": {},
   "outputs": [
    {
     "name": "stdout",
     "output_type": "stream",
     "text": [
      "6\n",
      "[20, 12.54, 'pineapple', [3, 5, 4, 6]]\n",
      "['blue', 'green', 'orange', 'purple', 'red', 'yellow']\n"
     ]
    }
   ],
   "source": [
    "random_list = ['orange', 10 , 12.54 , [3,5,4,6], ('red','orange', 17)]\n",
    "\n",
    "random_list[1] = 20\n",
    "\n",
    "random_list.insert(3,'pineapple')\n",
    "\n",
    "length_of_random_list = len(random_list)\n",
    "\n",
    "print(length_of_random_list)\n",
    "\n",
    "sub_list =  random_list[1:5]\n",
    "\n",
    "print(sub_list)\n",
    "\n",
    "random_list.extend(sub_list)\n",
    "\n",
    "sim_List = ['orange', 'red', 'blue', 'green', 'yellow', 'purple']\n",
    "\n",
    "sim_List.sort()\n",
    "\n",
    "print(sim_List)\n",
    "\n",
    "thirdList = sim_List.copy()\n",
    "\n",
    "fourthlist = sim_List + thirdList\n",
    "\n",
    "\n"
   ]
  },
  {
   "cell_type": "code",
   "execution_count": 51,
   "metadata": {},
   "outputs": [
    {
     "name": "stdout",
     "output_type": "stream",
     "text": [
      "8\n",
      "[1, 1, 1, 2, 2, 2, 5, 5, 5, 7, 7, 7, 8, 8, 8]\n",
      "1 2 2 2\n",
      "(50,)\n",
      "[1, 1, 1, 2, 2, 2, 5, 5, 5, 7, 7, 7, 8, 8, 8, 1, 2, 2, 2]\n"
     ]
    }
   ],
   "source": [
    "this_is_tuple = ( 1, 5, 8, 7, 2)\n",
    "\n",
    "second_tuple = this_is_tuple * 3 \n",
    "\n",
    "print(second_tuple[12])\n",
    "\n",
    "second_tuple = sorted(second_tuple)\n",
    "\n",
    "print(second_tuple)\n",
    "\n",
    "third_tuple = second_tuple[2:6]\n",
    "\n",
    "(animal, list1, floatingnu1, tuplenu1) = third_tuple\n",
    "\n",
    "print(animal, list1, floatingnu1, tuplenu1)\n",
    "\n",
    "tuplenu4 = (50,)\n",
    "\n",
    "print(tuplenu4)\n",
    "\n",
    "fifth_tuple = second_tuple + third_tuple\n",
    "\n",
    "print(fifth_tuple)\n",
    "\n"
   ]
  },
  {
   "cell_type": "code",
   "execution_count": 43,
   "metadata": {},
   "outputs": [
    {
     "name": "stdout",
     "output_type": "stream",
     "text": [
      "{10, 10.7, 'cat'}\n",
      "{27, 78}\n",
      "{10.7, 'car', 89, 10, 27, 78, 'cat'}\n"
     ]
    }
   ],
   "source": [
    "this_is_set = {'cat', 10, 10.7,}\n",
    "\n",
    "#thisisset.add(['apple', 'banana', 'cherry'])\n",
    "\n",
    "print(this_is_set)\n",
    "\n",
    "this_is_set.add('car')\n",
    "\n",
    "second_set = {27, 89, 78}\n",
    "\n",
    "third_set = this_is_set.union(second_set)\n",
    "\n",
    "second_set.pop()\n",
    "\n",
    "print(second_set)\n",
    "\n",
    "this_is_set.clear()\n",
    "\n",
    "third_set.discard(1)\n",
    "\n",
    "print(third_set)\n",
    "\n"
   ]
  },
  {
   "cell_type": "code",
   "execution_count": 39,
   "metadata": {},
   "outputs": [
    {
     "name": "stdout",
     "output_type": "stream",
     "text": [
      "alok\n",
      "dict_keys(['car', 'year', 'color', 'name', 'favcolor', 'favcolor2', 'listofnu'])\n",
      "dict_values(['nissan', 2015, 'black', 'arash', 'orange', 'black', '[1,2,3,4]'])\n",
      "{'car': 'nissan', 'year': 2015, 'color': 'black', 'name': 'arash', 'favcolor': 'orange', 'listofnu': '[1,2,3,4]'}\n",
      "dict2 is empty... {}\n"
     ]
    }
   ],
   "source": [
    "dict_1 = {'car': 'nissan', 'year': 2015, 'color': 'black', 'name': 'alok', 'favcolor': 'orange'}\n",
    "\n",
    "gettinng_dog_name = dict_1.get(\"name\")\n",
    "\n",
    "print(gettinng_dog_name)\n",
    "\n",
    "dict_1.update({\"name\": \"arash\"})\n",
    "\n",
    "dict_1.update({\"favcolor2\": \"black\"})\n",
    "\n",
    "dict_1.update({\"listofnu\": \"[1,2,3,4]\"})\n",
    "\n",
    "x = dict_1.keys()\n",
    "\n",
    "print(x)\n",
    "\n",
    "x = dict_1.values()\n",
    "\n",
    "print(x)\n",
    "\n",
    "dict_2 = dict_1.copy()\n",
    "\n",
    "dict_2.pop(\"favcolor2\")\n",
    "\n",
    "print(dict_2)\n",
    "\n",
    "dict_2.clear()\n",
    "\n",
    "print(\"dict2 is empty...\", dict_2)\n",
    "\n",
    "\n",
    "\n",
    "\n",
    "\n"
   ]
  }
 ],
 "metadata": {
  "kernelspec": {
   "display_name": "Python 3",
   "language": "python",
   "name": "python3"
  },
  "language_info": {
   "codemirror_mode": {
    "name": "ipython",
    "version": 3
   },
   "file_extension": ".py",
   "mimetype": "text/x-python",
   "name": "python",
   "nbconvert_exporter": "python",
   "pygments_lexer": "ipython3",
   "version": "3.10.9"
  },
  "orig_nbformat": 4,
  "vscode": {
   "interpreter": {
    "hash": "7e1998ff7f8aa20ada591c520b972326324e5ea05489af9e422744c7c09f6dad"
   }
  }
 },
 "nbformat": 4,
 "nbformat_minor": 2
}
